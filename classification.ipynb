{
 "cells": [
  {
   "cell_type": "code",
   "execution_count": null,
   "metadata": {},
   "outputs": [],
   "source": [
    "import numpy as np\n",
    "import pandas as pd\n",
    "from sklearn.model_selection import train_test_split"
   ]
  },
  {
   "cell_type": "markdown",
   "metadata": {},
   "source": [
    "## Load the extracted features from ResNet50 "
   ]
  },
  {
   "cell_type": "code",
   "execution_count": null,
   "metadata": {},
   "outputs": [],
   "source": [
    "# Load the CSV file\n",
    "df = pd.read_csv(\"features_512.csv\")\n",
    "df"
   ]
  },
  {
   "cell_type": "code",
   "execution_count": null,
   "metadata": {},
   "outputs": [],
   "source": [
    "# Remove columns with all zeros\n",
    "df = df.drop(columns=[col for col in df if (df[col] == 0).all()])"
   ]
  },
  {
   "cell_type": "code",
   "execution_count": null,
   "metadata": {},
   "outputs": [],
   "source": [
    "X = df.drop(columns=['file_name', 'label'])\n",
    "y = df['label']"
   ]
  },
  {
   "cell_type": "code",
   "execution_count": null,
   "metadata": {},
   "outputs": [],
   "source": [
    "X"
   ]
  },
  {
   "cell_type": "markdown",
   "metadata": {},
   "source": [
    "## Train test split"
   ]
  },
  {
   "cell_type": "code",
   "execution_count": null,
   "metadata": {},
   "outputs": [],
   "source": [
    "# Split the data\n",
    "X_train, X_test, y_train, y_test = train_test_split(X, y, test_size=0.2, random_state=42, stratify=y)"
   ]
  },
  {
   "cell_type": "markdown",
   "metadata": {},
   "source": [
    "## Standardization"
   ]
  },
  {
   "cell_type": "code",
   "execution_count": null,
   "metadata": {},
   "outputs": [],
   "source": [
    "from sklearn.preprocessing import StandardScaler\n",
    "# Initialize the scaler\n",
    "scaler = StandardScaler()\n",
    "\n",
    "# Fit on training data and transform both train and test sets\n",
    "X_train = scaler.fit_transform(X_train)\n",
    "X_test = scaler.transform(X_test)"
   ]
  },
  {
   "cell_type": "markdown",
   "metadata": {},
   "source": [
    "## Training SVM Classifier"
   ]
  },
  {
   "cell_type": "code",
   "execution_count": null,
   "metadata": {},
   "outputs": [],
   "source": [
    "from sklearn.svm import SVC\n",
    "# Initialize the SVM model\n",
    "svm = SVC(kernel=\"rbf\", C=1.0, gamma=\"scale\", random_state=42)\n",
    "\n",
    "# Train the SVM model\n",
    "svm.fit(X_train, y_train)"
   ]
  },
  {
   "cell_type": "markdown",
   "metadata": {},
   "source": [
    "## Testing SVM Classifier"
   ]
  },
  {
   "cell_type": "code",
   "execution_count": null,
   "metadata": {},
   "outputs": [],
   "source": [
    "from sklearn.metrics import classification_report, accuracy_score\n",
    "\n",
    "# Predict on the test set\n",
    "y_pred = svm.predict(X_test)\n",
    "\n",
    "# Print classification report\n",
    "print(\"Classification Report:\")\n",
    "print(classification_report(y_test, y_pred))\n",
    "\n",
    "# Print accuracy\n",
    "accuracy = accuracy_score(y_test, y_pred)\n",
    "print(f\"Accuracy: {accuracy * 100:.2f}%\")"
   ]
  },
  {
   "cell_type": "markdown",
   "metadata": {},
   "source": [
    "### Cross validation"
   ]
  },
  {
   "cell_type": "code",
   "execution_count": null,
   "metadata": {},
   "outputs": [],
   "source": [
    "from sklearn.model_selection import cross_val_score\n",
    "\n",
    "# Perform 5-fold cross-validation\n",
    "cv_scores = cross_val_score(svm, X, y, cv=5)\n",
    "\n",
    "print(f\"Cross-Validation Accuracy: {cv_scores.mean() * 100:.2f}%\")"
   ]
  },
  {
   "cell_type": "markdown",
   "metadata": {},
   "source": [
    "# Feture Embedding with Naive bayes"
   ]
  },
  {
   "cell_type": "code",
   "execution_count": null,
   "metadata": {},
   "outputs": [],
   "source": [
    "from sklearn.preprocessing import StandardScaler\n",
    "\n",
    "# Initialize the scaler\n",
    "scaler = StandardScaler()\n",
    "\n",
    "# Fit on training data and transform both train and test sets\n",
    "X = scaler.fit_transform(X)\n",
    "# X_test = scaler.transform(X_test)"
   ]
  },
  {
   "cell_type": "markdown",
   "metadata": {},
   "source": [
    "## Split the training set into two mutually exclusive S1 and S2 subsets for finding feature embedding transfer function"
   ]
  },
  {
   "cell_type": "code",
   "execution_count": null,
   "metadata": {},
   "outputs": [],
   "source": [
    "from sklearn.neighbors import KernelDensity\n",
    "\n",
    "# Step 2: Split data into S1 (density estimation) and S2 (transformation)\n",
    "X_train, X_test, y_train, y_test = train_test_split(X, y, test_size=0.2, random_state=42)\n",
    "S1_X, S2_X, S1_y, S2_y = train_test_split(X_train, y_train, test_size=0.2, random_state=42)"
   ]
  },
  {
   "cell_type": "code",
   "execution_count": null,
   "metadata": {},
   "outputs": [],
   "source": [
    "S1_X"
   ]
  },
  {
   "cell_type": "code",
   "execution_count": null,
   "metadata": {},
   "outputs": [],
   "source": [
    "S1_y"
   ]
  },
  {
   "cell_type": "code",
   "execution_count": null,
   "metadata": {},
   "outputs": [],
   "source": [
    "S1_y = np.array(S1_y)\n",
    "S2_y = np.array(S2_y)"
   ]
  },
  {
   "cell_type": "code",
   "execution_count": null,
   "metadata": {},
   "outputs": [],
   "source": [
    "# Step 2: Define a function to compute class densities\n",
    "def estimate_densities(X, y, bandwidth=0.2):\n",
    "    \"\"\"\n",
    "    Estimate density functions for each feature and class using Kernel Density Estimation (KDE).\n",
    "    \"\"\"\n",
    "    classes = np.unique(y)\n",
    "    densities = {}\n",
    "\n",
    "    for feature in range(X.shape[1]):\n",
    "        densities[feature] = {}\n",
    "        for cls in classes:\n",
    "            kde = KernelDensity(bandwidth=bandwidth)\n",
    "            feature_data = X[y == cls, feature].reshape(-1, 1)\n",
    "            kde.fit(feature_data)\n",
    "            densities[feature][cls] = kde\n",
    "    return densities\n",
    "\n",
    "# Step 3: Transform the original feature to a linearly separable feature space\n",
    "def transform_features(X, densities, priors, epsilon=1e-10):\n",
    "    \"\"\"\n",
    "    Transform features using Naive Bayes Feature Embedding (NBFE).\n",
    "    X: Input features to transform (pandas DataFrame).\n",
    "    densities: KDE models for each feature and class (output of estimate_densities).\n",
    "    priors: Prior probabilities for each class.\n",
    "    \"\"\"\n",
    "    n_samples, n_features = X.shape  # Get the number of samples and features\n",
    "    X_transformed = np.zeros_like(X)  # Initialize the transformed feature matrix\n",
    "\n",
    "    # Loop through each feature\n",
    "    for feature in range(n_features):\n",
    "        for i in range(n_samples):  # Loop through each sample\n",
    "            x_val = X[i, feature]  # Access the value of feature `feature` for sample `i`\n",
    "            \n",
    "            # Get the class density estimates for the current feature\n",
    "            f_class_1 = np.exp(densities[feature][1].score_samples([[x_val]]))[0]\n",
    "            f_class_0 = np.exp(densities[feature][0].score_samples([[x_val]]))[0]\n",
    "            \n",
    "            # Add epsilon to f_class_1 and f_class_0 to avoid zero densities\n",
    "            f_class_1 = max(f_class_1, epsilon)\n",
    "            f_class_0 = max(f_class_0, epsilon)\n",
    "            # Calculate the marginal density ratio\n",
    "            ratio = priors[1] * f_class_1 / (priors[0] * f_class_0)\n",
    "            \n",
    "            # Apply the log-transformation to the ratio\n",
    "            # Safeguard against invalid logarithms\n",
    "            if ratio > 0:\n",
    "                X_transformed[i, feature] = np.log(ratio)\n",
    "            else:\n",
    "                X_transformed[i, feature] = 0  # Fallback value\n",
    "\n",
    "    return X_transformed"
   ]
  },
  {
   "cell_type": "code",
   "execution_count": null,
   "metadata": {},
   "outputs": [],
   "source": [
    "# Step 5: Estimate densities and priors using S1\n",
    "priors = {cls: np.mean(S1_y == cls) for cls in np.unique(S1_y)}\n",
    "densities = estimate_densities(S1_X, np.array(S1_y))"
   ]
  },
  {
   "cell_type": "code",
   "execution_count": null,
   "metadata": {},
   "outputs": [],
   "source": [
    "priors"
   ]
  },
  {
   "cell_type": "code",
   "execution_count": null,
   "metadata": {},
   "outputs": [],
   "source": [
    "densities"
   ]
  },
  {
   "cell_type": "code",
   "execution_count": null,
   "metadata": {},
   "outputs": [],
   "source": [
    "# Step 6: Transform S2 and test set features\n",
    "S2_X_transformed = transform_features(S2_X, densities, priors)\n",
    "X_test_transformed = transform_features(X_test, densities, priors)"
   ]
  },
  {
   "cell_type": "code",
   "execution_count": null,
   "metadata": {},
   "outputs": [],
   "source": [
    "# Train an SVM on transformed features\n",
    "svm = SVC(kernel=\"linear\", random_state=42)\n",
    "svm.fit(S2_X_transformed, S2_y)\n",
    "\n",
    "# Evaluate the model\n",
    "y_pred = svm.predict(X_test_transformed)\n",
    "accuracy = accuracy_score(y_test, y_pred)\n",
    "print(f\"Accuracy on Test Set (Naive Bayes Feature Embedding + SVM): {accuracy:.2f}\")\n",
    "\n",
    "\n",
    "# Print classification report\n",
    "print(\"Classification Report:\")\n",
    "print(classification_report(y_test, y_pred))\n"
   ]
  }
 ],
 "metadata": {
  "language_info": {
   "name": "python"
  }
 },
 "nbformat": 4,
 "nbformat_minor": 2
}
